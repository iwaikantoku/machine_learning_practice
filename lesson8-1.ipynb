{
 "cells": [
  {
   "cell_type": "markdown",
   "metadata": {
    "collapsed": true
   },
   "source": [
    "import numpy as np\n",
    "\n",
    "import matplotlib.pyplot as plt\n",
    "%matplotlib inline"
   ]
  },
  {
   "cell_type": "code",
   "execution_count": 2,
   "metadata": {
    "collapsed": true
   },
   "outputs": [],
   "source": [
    "from sklearn.datasets import load_breast_cancer\n",
    "data = load_breast_cancer()\n",
    "X = data.data\n",
    "y = data.target"
   ]
  },
  {
   "cell_type": "code",
   "execution_count": 3,
   "metadata": {
    "collapsed": true
   },
   "outputs": [],
   "source": [
    "from sklearn.model_selection import ShuffleSplit\n",
    "ss = ShuffleSplit(n_splits=1, \n",
    "                  train_size=0.8, \n",
    "                  test_size=0.2, \n",
    "                  random_state=0)\n",
    "\n",
    "train_index, test_index = next(ss.split(X, y))\n",
    "\n",
    "X_train, X_test = X[train_index], X[test_index]\n",
    "y_train, y_test = y[train_index], y[test_index]"
   ]
  },
  {
   "cell_type": "code",
   "execution_count": 5,
   "metadata": {
    "collapsed": false
   },
   "outputs": [],
   "source": [
    "from sklearn.preprocessing import MinMaxScaler\n",
    "scaler = MinMaxScaler()\n",
    "scaler.fit(X_train)\n",
    "X_train = scaler.transform(X_train)\n",
    "X_test = scaler.transform(X_test)"
   ]
  },
  {
   "cell_type": "code",
   "execution_count": 6,
   "metadata": {
    "collapsed": true
   },
   "outputs": [],
   "source": [
    "from sklearn.linear_model import LogisticRegression\n",
    "clf = LogisticRegression()"
   ]
  },
  {
   "cell_type": "code",
   "execution_count": 7,
   "metadata": {
    "collapsed": true
   },
   "outputs": [],
   "source": [
    "C_range = [1e-5, 1e-3, 1e-2, 1, 1e2, 1e5, 1e10]"
   ]
  },
  {
   "cell_type": "code",
   "execution_count": 8,
   "metadata": {
    "collapsed": true
   },
   "outputs": [],
   "source": [
    "C_range_exp = np.arange(-15.0,21.0)\n",
    "C_range = 10 ** C_range_exp"
   ]
  },
  {
   "cell_type": "code",
   "execution_count": 9,
   "metadata": {
    "collapsed": false
   },
   "outputs": [
    {
     "data": {
      "text/plain": [
       "array([  1.00000000e-15,   1.00000000e-14,   1.00000000e-13,\n",
       "         1.00000000e-12,   1.00000000e-11,   1.00000000e-10,\n",
       "         1.00000000e-09,   1.00000000e-08,   1.00000000e-07,\n",
       "         1.00000000e-06,   1.00000000e-05,   1.00000000e-04,\n",
       "         1.00000000e-03,   1.00000000e-02,   1.00000000e-01,\n",
       "         1.00000000e+00,   1.00000000e+01,   1.00000000e+02,\n",
       "         1.00000000e+03,   1.00000000e+04,   1.00000000e+05,\n",
       "         1.00000000e+06,   1.00000000e+07,   1.00000000e+08,\n",
       "         1.00000000e+09,   1.00000000e+10,   1.00000000e+11,\n",
       "         1.00000000e+12,   1.00000000e+13,   1.00000000e+14,\n",
       "         1.00000000e+15,   1.00000000e+16,   1.00000000e+17,\n",
       "         1.00000000e+18,   1.00000000e+19,   1.00000000e+20])"
      ]
     },
     "execution_count": 9,
     "metadata": {},
     "output_type": "execute_result"
    }
   ],
   "source": [
    "C_range"
   ]
  },
  {
   "cell_type": "code",
   "execution_count": 10,
   "metadata": {
    "collapsed": false
   },
   "outputs": [
    {
     "data": {
      "text/plain": [
       "GridSearchCV(cv=None, error_score='raise',\n",
       "       estimator=LogisticRegression(C=1.0, class_weight=None, dual=False, fit_intercept=True,\n",
       "          intercept_scaling=1, max_iter=100, multi_class='ovr', n_jobs=1,\n",
       "          penalty='l2', random_state=None, solver='liblinear', tol=0.0001,\n",
       "          verbose=0, warm_start=False),\n",
       "       fit_params={}, iid=True, n_jobs=1,\n",
       "       param_grid={'C': array([  1.00000e-15,   1.00000e-14,   1.00000e-13,   1.00000e-12,\n",
       "         1.00000e-11,   1.00000e-10,   1.00000e-09,   1.00000e-08,\n",
       "         1.00000e-07,   1.00000e-06,   1.00000e-05,   1.00000e-04,\n",
       "         1.00000e-03,   1.00000e-02,   1.00000e-01,   1.00000e+00,\n",
       "         1.0000...,   1.00000e+15,   1.00000e+16,\n",
       "         1.00000e+17,   1.00000e+18,   1.00000e+19,   1.00000e+20])},\n",
       "       pre_dispatch='2*n_jobs', refit=True, return_train_score=True,\n",
       "       scoring=None, verbose=0)"
      ]
     },
     "execution_count": 10,
     "metadata": {},
     "output_type": "execute_result"
    }
   ],
   "source": [
    "from sklearn.model_selection import GridSearchCV\n",
    "param = {'C':C_range}\n",
    "gs = GridSearchCV(clf,param)\n",
    "gs.fit(X_train,y_train)"
   ]
  },
  {
   "cell_type": "code",
   "execution_count": 11,
   "metadata": {
    "collapsed": false
   },
   "outputs": [
    {
     "data": {
      "text/plain": [
       "({'C': 10.0},\n",
       " 0.96703296703296704,\n",
       " LogisticRegression(C=10.0, class_weight=None, dual=False, fit_intercept=True,\n",
       "           intercept_scaling=1, max_iter=100, multi_class='ovr', n_jobs=1,\n",
       "           penalty='l2', random_state=None, solver='liblinear', tol=0.0001,\n",
       "           verbose=0, warm_start=False))"
      ]
     },
     "execution_count": 11,
     "metadata": {},
     "output_type": "execute_result"
    }
   ],
   "source": [
    "gs.best_params_, gs.best_score_, gs.best_estimator_"
   ]
  },
  {
   "cell_type": "code",
   "execution_count": 12,
   "metadata": {
    "collapsed": false
   },
   "outputs": [
    {
     "data": {
      "text/plain": [
       "0.96491228070175439"
      ]
     },
     "execution_count": 12,
     "metadata": {},
     "output_type": "execute_result"
    }
   ],
   "source": [
    "gs.score(X_test,y_test)"
   ]
  },
  {
   "cell_type": "code",
   "execution_count": null,
   "metadata": {
    "collapsed": true
   },
   "outputs": [],
   "source": []
  },
  {
   "cell_type": "code",
   "execution_count": null,
   "metadata": {
    "collapsed": true
   },
   "outputs": [],
   "source": []
  },
  {
   "cell_type": "code",
   "execution_count": 13,
   "metadata": {
    "collapsed": false
   },
   "outputs": [
    {
     "name": "stdout",
     "output_type": "stream",
     "text": [
      "Fitting 3 folds for each of 14 candidates, totalling 42 fits\n",
      "[CV] C=0.01, kernel=linear ...........................................\n",
      "[CV] C=0.01, kernel=linear ...........................................\n",
      "[CV] C=0.01, kernel=linear ...........................................\n",
      "[CV] ............................ C=0.01, kernel=linear, total=   0.0s\n",
      "[CV] C=0.01, kernel=rbf ..............................................\n",
      "[CV] ............................ C=0.01, kernel=linear, total=   0.0s\n",
      "[CV] C=0.01, kernel=rbf ..............................................\n",
      "[CV] ............................ C=0.01, kernel=linear, total=   0.0s\n",
      "[CV] C=0.01, kernel=rbf ..............................................\n",
      "[CV] ............................... C=0.01, kernel=rbf, total=   0.0s\n",
      "[CV] C=0.1, kernel=linear ............................................\n",
      "[CV] ............................... C=0.01, kernel=rbf, total=   0.0s\n",
      "[CV] C=0.1, kernel=linear ............................................\n",
      "[CV] ............................... C=0.01, kernel=rbf, total=   0.0s\n",
      "[CV] ............................. C=0.1, kernel=linear, total=   0.0s\n",
      "[CV] C=0.1, kernel=linear ............................................\n",
      "[CV] ............................. C=0.1, kernel=linear, total=   0.0s\n",
      "[CV] C=10.0, kernel=linear ...........................................\n",
      "[CV] C=1.0, kernel=linear ............................................\n",
      "[CV] C=100.0, kernel=linear ..........................................\n",
      "[CV] ............................. C=0.1, kernel=linear, total=   0.0s\n",
      "[CV] ............................ C=10.0, kernel=linear, total=   0.0s\n",
      "[CV] C=0.1, kernel=rbf ...............................................\n",
      "[CV] C=10.0, kernel=rbf ..............................................\n",
      "[CV] ............................. C=1.0, kernel=linear, total=   0.0s\n",
      "[CV] ........................... C=100.0, kernel=linear, total=   0.0s\n",
      "[CV] C=1.0, kernel=rbf ...............................................\n",
      "[CV] C=100.0, kernel=rbf .............................................\n",
      "[CV] ............................... C=10.0, kernel=rbf, total=   0.0s\n",
      "[CV] C=10.0, kernel=rbf ..............................................\n",
      "[CV] .............................. C=100.0, kernel=rbf, total=   0.0s\n",
      "[CV] ................................ C=1.0, kernel=rbf, total=   0.0s\n",
      "[CV] C=1.0, kernel=rbf ...............................................\n",
      "[CV] ................................ C=0.1, kernel=rbf, total=   0.0s\n",
      "[CV] C=100.0, kernel=rbf .............................................\n",
      "[CV] ............................... C=10.0, kernel=rbf, total=   0.0s\n",
      "[CV] C=0.1, kernel=rbf ...............................................\n",
      "[CV] C=10.0, kernel=rbf ..............................................\n",
      "[CV] .............................. C=100.0, kernel=rbf, total=   0.0s\n",
      "[CV] ................................ C=1.0, kernel=rbf, total=   0.0s\n",
      "[CV] ............................... C=10.0, kernel=rbf, total=   0.0s\n",
      "[CV] C=100.0, kernel=rbf .............................................\n",
      "[CV] C=100.0, kernel=linear ..........................................\n",
      "[CV] C=1.0, kernel=rbf ...............................................\n",
      "[CV] ................................ C=0.1, kernel=rbf, total=   0.0s\n",
      "[CV] ........................... C=100.0, kernel=linear, total=   0.0s\n",
      "[CV] .............................. C=100.0, kernel=rbf, total=   0.0s\n",
      "[CV] ................................ C=1.0, kernel=rbf, total=   0.0s\n",
      "[CV] C=0.1, kernel=rbf ...............................................\n",
      "[CV] C=100.0, kernel=linear ..........................................\n",
      "[CV] C=1000.0, kernel=linear .........................................\n",
      "[CV] C=10.0, kernel=linear ...........................................\n",
      "[CV] .......................... C=1000.0, kernel=linear, total=   0.0s\n",
      "[CV] ............................ C=10.0, kernel=linear, total=   0.0s\n",
      "[CV] ........................... C=100.0, kernel=linear, total=   0.0s\n",
      "[CV] C=10.0, kernel=linear ...........................................\n",
      "[CV] ............................ C=10.0, kernel=linear, total=   0.0s\n",
      "[CV] ................................ C=0.1, kernel=rbf, total=   0.0s\n",
      "[CV] C=1000.0, kernel=linear .........................................\n",
      "[CV] C=1000.0, kernel=linear .........................................\n",
      "[CV] C=10000.0, kernel=linear ........................................\n",
      "[CV] C=1.0, kernel=linear ............................................\n",
      "[CV] .......................... C=1000.0, kernel=linear, total=   0.0s\n",
      "[CV] .......................... C=1000.0, kernel=linear, total=   0.0s\n",
      "[CV] ............................. C=1.0, kernel=linear, total=   0.0s\n",
      "[CV] C=1000.0, kernel=rbf ............................................\n",
      "[CV] C=1.0, kernel=linear ............................................\n",
      "[CV] ............................. C=1000.0, kernel=rbf, total=   0.0s\n",
      "[CV] ............................. C=1.0, kernel=linear, total=   0.0s\n",
      "[CV] C=1000.0, kernel=rbf ............................................\n",
      "[CV] ............................. C=1000.0, kernel=rbf, total=   0.0s\n",
      "[CV] C=1000.0, kernel=rbf ............................................\n",
      "[CV] ......................... C=10000.0, kernel=linear, total=   0.0s\n",
      "[CV] C=10000.0, kernel=rbf ...........................................\n",
      "[CV] ............................. C=1000.0, kernel=rbf, total=   0.0s\n",
      "[CV] C=10000.0, kernel=linear ........................................\n",
      "[CV] ............................ C=10000.0, kernel=rbf, total=   0.0s\n",
      "[CV] C=10000.0, kernel=rbf ...........................................\n",
      "[CV] ......................... C=10000.0, kernel=linear, total=   0.0s\n",
      "[CV] C=10000.0, kernel=linear ........................................\n",
      "[CV] ............................ C=10000.0, kernel=rbf, total=   0.0s\n",
      "[CV] C=10000.0, kernel=rbf ...........................................\n",
      "[CV] ......................... C=10000.0, kernel=linear, total=   0.0s\n",
      "[CV] ............................ C=10000.0, kernel=rbf, total=   0.0s\n"
     ]
    },
    {
     "name": "stderr",
     "output_type": "stream",
     "text": [
      "[Parallel(n_jobs=-1)]: Done  42 out of  42 | elapsed:    0.4s finished\n"
     ]
    },
    {
     "data": {
      "text/plain": [
       "GridSearchCV(cv=None, error_score='raise',\n",
       "       estimator=SVC(C=1.0, cache_size=200, class_weight=None, coef0=0.0,\n",
       "  decision_function_shape=None, degree=3, gamma='auto', kernel='rbf',\n",
       "  max_iter=-1, probability=False, random_state=None, shrinking=True,\n",
       "  tol=0.001, verbose=False),\n",
       "       fit_params={}, iid=True, n_jobs=-1,\n",
       "       param_grid={'C': array([  1.00000e-02,   1.00000e-01,   1.00000e+00,   1.00000e+01,\n",
       "         1.00000e+02,   1.00000e+03,   1.00000e+04]), 'kernel': ['linear', 'rbf']},\n",
       "       pre_dispatch='2*n_jobs', refit=True, return_train_score=True,\n",
       "       scoring=None, verbose=2)"
      ]
     },
     "execution_count": 13,
     "metadata": {},
     "output_type": "execute_result"
    }
   ],
   "source": [
    "from sklearn.svm import SVC\n",
    "clf = SVC()\n",
    "C_range_exp= np.arange(-2.0,5.0)\n",
    "C_range = 10 ** C_range_exp\n",
    "\n",
    "param = {'C': C_range,\n",
    "         'kernel': ['linear', 'rbf']}\n",
    "\n",
    "gs = GridSearchCV(clf, param, n_jobs=-1, verbose=2)\n",
    "gs.fit(X_train, y_train)"
   ]
  },
  {
   "cell_type": "code",
   "execution_count": 14,
   "metadata": {
    "collapsed": false
   },
   "outputs": [
    {
     "data": {
      "text/plain": [
       "({'C': 100.0, 'kernel': 'rbf'},\n",
       " 0.97142857142857142,\n",
       " SVC(C=100.0, cache_size=200, class_weight=None, coef0=0.0,\n",
       "   decision_function_shape=None, degree=3, gamma='auto', kernel='rbf',\n",
       "   max_iter=-1, probability=False, random_state=None, shrinking=True,\n",
       "   tol=0.001, verbose=False))"
      ]
     },
     "execution_count": 14,
     "metadata": {},
     "output_type": "execute_result"
    }
   ],
   "source": [
    "gs.best_params_, gs.best_score_, gs.best_estimator_"
   ]
  },
  {
   "cell_type": "code",
   "execution_count": 15,
   "metadata": {
    "collapsed": false
   },
   "outputs": [
    {
     "data": {
      "text/plain": [
       "0.96491228070175439"
      ]
     },
     "execution_count": 15,
     "metadata": {},
     "output_type": "execute_result"
    }
   ],
   "source": [
    "gs.score(X_test, y_test)"
   ]
  },
  {
   "cell_type": "code",
   "execution_count": null,
   "metadata": {
    "collapsed": true
   },
   "outputs": [],
   "source": []
  },
  {
   "cell_type": "code",
   "execution_count": null,
   "metadata": {
    "collapsed": true
   },
   "outputs": [],
   "source": []
  },
  {
   "cell_type": "code",
   "execution_count": null,
   "metadata": {
    "collapsed": true
   },
   "outputs": [],
   "source": [
    "from sklearn.svm import S"
   ]
  }
 ],
 "metadata": {
  "kernelspec": {
   "display_name": "Python 3",
   "language": "python",
   "name": "python3"
  },
  "language_info": {
   "codemirror_mode": {
    "name": "ipython",
    "version": 3
   },
   "file_extension": ".py",
   "mimetype": "text/x-python",
   "name": "python",
   "nbconvert_exporter": "python",
   "pygments_lexer": "ipython3",
   "version": "3.6.0"
  }
 },
 "nbformat": 4,
 "nbformat_minor": 2
}
