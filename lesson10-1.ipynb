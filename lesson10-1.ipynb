{
 "cells": [
  {
   "cell_type": "markdown",
   "metadata": {
    "collapsed": false
   },
   "source": [
    "import numpy as np \n",
    "from sklearn.datasets import fetch_20newsgroups"
   ]
  },
  {
   "cell_type": "code",
   "execution_count": 4,
   "metadata": {
    "collapsed": false
   },
   "outputs": [
    {
     "name": "stderr",
     "output_type": "stream",
     "text": [
      "Downloading dataset from http://people.csail.mit.edu/jrennie/20Newsgroups/20news-bydate.tar.gz (14 MB)\n"
     ]
    }
   ],
   "source": [
    "newsgroups_train = fetch_20newsgroups(subset='train')\n",
    "newsgroups_test = fetch_20newsgroups(subset='test')"
   ]
  },
  {
   "cell_type": "code",
   "execution_count": 5,
   "metadata": {
    "collapsed": false
   },
   "outputs": [
    {
     "data": {
      "text/plain": [
       "['alt.atheism',\n",
       " 'comp.graphics',\n",
       " 'comp.os.ms-windows.misc',\n",
       " 'comp.sys.ibm.pc.hardware',\n",
       " 'comp.sys.mac.hardware',\n",
       " 'comp.windows.x',\n",
       " 'misc.forsale',\n",
       " 'rec.autos',\n",
       " 'rec.motorcycles',\n",
       " 'rec.sport.baseball',\n",
       " 'rec.sport.hockey',\n",
       " 'sci.crypt',\n",
       " 'sci.electronics',\n",
       " 'sci.med',\n",
       " 'sci.space',\n",
       " 'soc.religion.christian',\n",
       " 'talk.politics.guns',\n",
       " 'talk.politics.mideast',\n",
       " 'talk.politics.misc',\n",
       " 'talk.religion.misc']"
      ]
     },
     "execution_count": 5,
     "metadata": {},
     "output_type": "execute_result"
    }
   ],
   "source": [
    "newsgroups_train.target_names"
   ]
  },
  {
   "cell_type": "code",
   "execution_count": 6,
   "metadata": {
    "collapsed": false
   },
   "outputs": [
    {
     "data": {
      "text/plain": [
       "(11314, 7532)"
      ]
     },
     "execution_count": 6,
     "metadata": {},
     "output_type": "execute_result"
    }
   ],
   "source": [
    "newsgroups_train.target.size, newsgroups_test.target.size"
   ]
  },
  {
   "cell_type": "code",
   "execution_count": 7,
   "metadata": {
    "collapsed": false
   },
   "outputs": [
    {
     "name": "stdout",
     "output_type": "stream",
     "text": [
      "From: jgreen@amber (Joe Green)\n",
      "Subject: Re: Weitek P9000 ?\n",
      "Organization: Harris Computer Systems Division\n",
      "Lines: 14\n",
      "Distribution: world\n",
      "NNTP-Posting-Host: amber.ssd.csd.harris.com\n",
      "X-Newsreader: TIN [version 1.1 PL9]\n",
      "\n",
      "Robert J.C. Kyanko (rob@rjck.UUCP) wrote:\n",
      "> abraxis@iastate.edu writes in article <abraxis.734340159@class1.iastate.edu>:\n",
      "> > Anyone know about the Weitek P9000 graphics chip?\n",
      "> As far as the low-level stuff goes, it looks pretty nice.  It's got this\n",
      "> quadrilateral fill command that requires just the four points.\n",
      "\n",
      "Do you have Weitek's address/phone number?  I'd like to get some information\n",
      "about this chip.\n",
      "\n",
      "--\n",
      "Joe Green\t\t\t\tHarris Corporation\n",
      "jgreen@csd.harris.com\t\t\tComputer Systems Division\n",
      "\"The only thing that really scares me is a person with no sense of humor.\"\n",
      "\t\t\t\t\t\t-- Jonathan Winters\n",
      "\n"
     ]
    }
   ],
   "source": [
    "print(newsgroups_train.data[3])"
   ]
  },
  {
   "cell_type": "code",
   "execution_count": 8,
   "metadata": {
    "collapsed": true
   },
   "outputs": [],
   "source": [
    "from sklearn.feature_extraction.text import  TfidfVectorizer\n",
    "vectorizer = TfidfVectorizer()"
   ]
  },
  {
   "cell_type": "code",
   "execution_count": 10,
   "metadata": {
    "collapsed": false
   },
   "outputs": [],
   "source": [
    "X_train  = vectorizer.fit_transform(newsgroups_train.data)\n",
    "X_test = vectorizer.transform(newsgroups_test.data)"
   ]
  },
  {
   "cell_type": "code",
   "execution_count": 11,
   "metadata": {
    "collapsed": true
   },
   "outputs": [],
   "source": [
    "y_train = newsgroups_train.target\n",
    "y_test  = newsgroups_test.target"
   ]
  },
  {
   "cell_type": "code",
   "execution_count": 13,
   "metadata": {
    "collapsed": false
   },
   "outputs": [],
   "source": [
    "from sklearn.linear_model import LogisticRegression\n",
    "clf = LogisticRegression()"
   ]
  },
  {
   "cell_type": "code",
   "execution_count": 14,
   "metadata": {
    "collapsed": false
   },
   "outputs": [
    {
     "data": {
      "text/plain": [
       "LogisticRegression(C=1.0, class_weight=None, dual=False, fit_intercept=True,\n",
       "          intercept_scaling=1, max_iter=100, multi_class='ovr', n_jobs=1,\n",
       "          penalty='l2', random_state=None, solver='liblinear', tol=0.0001,\n",
       "          verbose=0, warm_start=False)"
      ]
     },
     "execution_count": 14,
     "metadata": {},
     "output_type": "execute_result"
    }
   ],
   "source": [
    "clf.fit(X_train, y_train)"
   ]
  },
  {
   "cell_type": "code",
   "execution_count": 15,
   "metadata": {
    "collapsed": false
   },
   "outputs": [
    {
     "data": {
      "text/plain": [
       "0.82793414763674988"
      ]
     },
     "execution_count": 15,
     "metadata": {},
     "output_type": "execute_result"
    }
   ],
   "source": [
    "clf.score(X_test, y_test)"
   ]
  },
  {
   "cell_type": "code",
   "execution_count": 16,
   "metadata": {
    "collapsed": false
   },
   "outputs": [
    {
     "data": {
      "text/plain": [
       "<1x130107 sparse matrix of type '<class 'numpy.float64'>'\n",
       "\twith 89 stored elements in Compressed Sparse Row format>"
      ]
     },
     "execution_count": 16,
     "metadata": {},
     "output_type": "execute_result"
    }
   ],
   "source": [
    "X_train[0]"
   ]
  },
  {
   "cell_type": "code",
   "execution_count": 17,
   "metadata": {
    "collapsed": false
   },
   "outputs": [
    {
     "data": {
      "text/plain": [
       "array([[ 0.,  0.,  0., ...,  0.,  0.,  0.]])"
      ]
     },
     "execution_count": 17,
     "metadata": {},
     "output_type": "execute_result"
    }
   ],
   "source": [
    "X_train_0 = X_train[0].toarray()\n",
    "X_train_0"
   ]
  },
  {
   "cell_type": "code",
   "execution_count": 18,
   "metadata": {
    "collapsed": false
   },
   "outputs": [
    {
     "data": {
      "text/plain": [
       "(89, 130107)"
      ]
     },
     "execution_count": 18,
     "metadata": {},
     "output_type": "execute_result"
    }
   ],
   "source": [
    "np.count_nonzero(X_train_0), X_train_0.shape[1]"
   ]
  },
  {
   "cell_type": "code",
   "execution_count": 19,
   "metadata": {
    "collapsed": false
   },
   "outputs": [
    {
     "data": {
      "text/plain": [
       "array([ 0.06332604,  0.14155753,  0.13874908,  0.0953487 ,  0.03709893,\n",
       "        0.10278592,  0.02991186,  0.0871642 ,  0.16713176,  0.09353931,\n",
       "        0.13280753,  0.03770449,  0.0690878 ,  0.0343176 ,  0.38133891,\n",
       "        0.07801368,  0.04951999,  0.06621689,  0.10015015,  0.11603643,\n",
       "        0.0845253 ,  0.05461429,  0.09714744,  0.13412921,  0.05747015,\n",
       "        0.08646963,  0.1558717 ,  0.02921528,  0.08342748,  0.03542092,\n",
       "        0.06363421,  0.09785516,  0.02245166,  0.07313444,  0.07325812,\n",
       "        0.05097865,  0.04280825,  0.09219024,  0.35383501,  0.01921946,\n",
       "        0.09036441,  0.0690878 ,  0.06339409,  0.05989857,  0.10936401,\n",
       "        0.03955173,  0.08844382,  0.03696979,  0.07000411,  0.13157119,\n",
       "        0.03567186,  0.06521174,  0.05715821,  0.03188937,  0.01992886,\n",
       "        0.0454964 ,  0.04114286,  0.09913274,  0.05545703,  0.03447138,\n",
       "        0.10826904,  0.16068606,  0.05666562,  0.08171219,  0.0846283 ,\n",
       "        0.09869735,  0.07526016,  0.10844725,  0.10809248,  0.01915672,\n",
       "        0.17691751,  0.05511105,  0.12287763,  0.03671831,  0.06214071,\n",
       "        0.14447276,  0.04247263,  0.21186807,  0.03708598,  0.25970902,\n",
       "        0.14534719,  0.04943756,  0.03685429,  0.08207027,  0.10798795,\n",
       "        0.0888257 ,  0.0606221 ,  0.05922294,  0.04278499])"
      ]
     },
     "execution_count": 19,
     "metadata": {},
     "output_type": "execute_result"
    }
   ],
   "source": [
    "X_train_0[np.nonzero(X_train_0)]"
   ]
  },
  {
   "cell_type": "code",
   "execution_count": 20,
   "metadata": {
    "collapsed": false
   },
   "outputs": [
    {
     "data": {
      "text/plain": [
       "[<matplotlib.lines.Line2D at 0x111c70400>]"
      ]
     },
     "execution_count": 20,
     "metadata": {},
     "output_type": "execute_result"
    },
    {
     "data": {
      "image/png": "[encoded data removed]",
      "text/plain": [
       "<matplotlib.figure.Figure at 0x10e6a5b38>"
      ]
     },
     "metadata": {},
     "output_type": "display_data"
    }
   ],
   "source": [
    "import numpy as np\n",
    "import matplotlib.pyplot as plt\n",
    "%matplotlib inline\n",
    "plt.plot(np.sort(X_train_0[np.nonzero(X_train_0)]))"
   ]
  },
  {
   "cell_type": "code",
   "execution_count": 21,
   "metadata": {
    "collapsed": true
   },
   "outputs": [],
   "source": [
    "from sklearn.pipeline import Pipeline\n",
    "from sklearn.preprocessing import Binarizer\n",
    "\n",
    "pipe = Pipeline([('bin', Binarizer()), \n",
    "                 ('clf', LogisticRegression())])"
   ]
  },
  {
   "cell_type": "code",
   "execution_count": 22,
   "metadata": {
    "collapsed": false
   },
   "outputs": [
    {
     "name": "stdout",
     "output_type": "stream",
     "text": [
      "Fitting 3 folds for each of 7 candidates, totalling 21 fits\n",
      "[CV] bin__threshold=0.001 ............................................\n",
      "[CV] bin__threshold=0.001 ............................................\n",
      "[CV] bin__threshold=0.001 ............................................\n",
      "[CV] bin__threshold=0.01 .............................................\n",
      "[CV] .............................. bin__threshold=0.01, total=  34.8s\n",
      "[CV] bin__threshold=0.01 .............................................\n",
      "[CV] ............................. bin__threshold=0.001, total=  38.3s\n",
      "[CV] bin__threshold=0.01 .............................................\n",
      "[CV] ............................. bin__threshold=0.001, total=  39.7s\n",
      "[CV] bin__threshold=0.05 .............................................\n",
      "[CV] ............................. bin__threshold=0.001, total=  39.9s\n",
      "[CV] bin__threshold=0.05 .............................................\n",
      "[CV] .............................. bin__threshold=0.05, total=  15.0s\n",
      "[CV] .............................. bin__threshold=0.05, total=  14.9s\n",
      "[CV] bin__threshold=0.05 .............................................\n",
      "[CV] bin__threshold=0.1 ..............................................\n",
      "[CV] ............................... bin__threshold=0.1, total=   9.0s\n",
      "[CV] bin__threshold=0.1 ..............................................\n",
      "[CV] .............................. bin__threshold=0.01, total=  30.0s\n",
      "[CV] bin__threshold=0.1 ..............................................\n",
      "[CV] .............................. bin__threshold=0.01, total=  31.7s\n",
      "[CV] bin__threshold=0.2 ..............................................\n",
      "[CV] .............................. bin__threshold=0.05, total=  16.4s\n",
      "[CV] bin__threshold=0.2 ..............................................\n",
      "[CV] ............................... bin__threshold=0.1, total=   9.4s\n",
      "[CV] bin__threshold=0.2 ..............................................\n",
      "[CV] ............................... bin__threshold=0.1, total=   9.5s\n",
      "[CV] bin__threshold=0.3 ..............................................\n",
      "[CV] ............................... bin__threshold=0.2, total=   5.2s\n",
      "[CV] bin__threshold=0.3 ..............................................\n",
      "[CV] ............................... bin__threshold=0.2, total=   5.4s\n",
      "[CV] bin__threshold=0.3 ..............................................\n",
      "[CV] ............................... bin__threshold=0.3, total=   3.7s\n",
      "[CV] bin__threshold=0.4 ..............................................\n",
      "[CV] ............................... bin__threshold=0.3, total=   3.8s\n",
      "[CV] bin__threshold=0.4 ..............................................\n",
      "[CV] ............................... bin__threshold=0.2, total=   5.8s\n",
      "[CV] bin__threshold=0.4 ..............................................\n",
      "[CV] ............................... bin__threshold=0.3, total=   3.9s\n",
      "[CV] ............................... bin__threshold=0.4, total=   2.9s\n",
      "[CV] ............................... bin__threshold=0.4, total=   2.4s\n",
      "[CV] ............................... bin__threshold=0.4, total=   2.3s\n"
     ]
    },
    {
     "name": "stderr",
     "output_type": "stream",
     "text": [
      "[Parallel(n_jobs=-1)]: Done  21 out of  21 | elapsed:  1.4min finished\n"
     ]
    },
    {
     "data": {
      "text/plain": [
       "GridSearchCV(cv=None, error_score='raise',\n",
       "       estimator=Pipeline(steps=[('bin', Binarizer(copy=True, threshold=0.0)), ('clf', LogisticRegression(C=1.0, class_weight=None, dual=False, fit_intercept=True,\n",
       "          intercept_scaling=1, max_iter=100, multi_class='ovr', n_jobs=1,\n",
       "          penalty='l2', random_state=None, solver='liblinear', tol=0.0001,\n",
       "          verbose=0, warm_start=False))]),\n",
       "       fit_params={}, iid=True, n_jobs=-1,\n",
       "       param_grid={'bin__threshold': [0.001, 0.01, 0.05, 0.1, 0.2, 0.3, 0.4]},\n",
       "       pre_dispatch='2*n_jobs', refit=True, return_train_score=True,\n",
       "       scoring=None, verbose=2)"
      ]
     },
     "execution_count": 22,
     "metadata": {},
     "output_type": "execute_result"
    }
   ],
   "source": [
    "from sklearn.model_selection import GridSearchCV\n",
    "\n",
    "param = {'bin__threshold': [0.001, 0.01, 0.05, 0.1, 0.2, 0.3, 0.4]}\n",
    "\n",
    "gs1 = GridSearchCV(pipe, param, n_jobs=-1, verbose=2)\n",
    "gs1.fit(X_train, y_train)"
   ]
  },
  {
   "cell_type": "code",
   "execution_count": 23,
   "metadata": {
    "collapsed": false
   },
   "outputs": [
    {
     "data": {
      "text/plain": [
       "({'bin__threshold': 0.05},\n",
       " 0.89137351953332156,\n",
       " Pipeline(steps=[('bin', Binarizer(copy=True, threshold=0.05)), ('clf', LogisticRegression(C=1.0, class_weight=None, dual=False, fit_intercept=True,\n",
       "           intercept_scaling=1, max_iter=100, multi_class='ovr', n_jobs=1,\n",
       "           penalty='l2', random_state=None, solver='liblinear', tol=0.0001,\n",
       "           verbose=0, warm_start=False))]))"
      ]
     },
     "execution_count": 23,
     "metadata": {},
     "output_type": "execute_result"
    }
   ],
   "source": [
    "gs1.best_params_, gs1.best_score_, gs1.best_estimator_"
   ]
  },
  {
   "cell_type": "code",
   "execution_count": 24,
   "metadata": {
    "collapsed": false
   },
   "outputs": [
    {
     "data": {
      "text/plain": [
       "0.82222517259691985"
      ]
     },
     "execution_count": 24,
     "metadata": {},
     "output_type": "execute_result"
    }
   ],
   "source": [
    "gs1.score(X_test, y_test)"
   ]
  },
  {
   "cell_type": "code",
   "execution_count": 25,
   "metadata": {
    "collapsed": false
   },
   "outputs": [
    {
     "name": "stdout",
     "output_type": "stream",
     "text": [
      "Fitting 3 folds for each of 10 candidates, totalling 30 fits\n",
      "[CV] clf__C=10.0, bin__threshold=0.01 ................................\n",
      "[CV] clf__C=10.0, bin__threshold=0.01 ................................\n",
      "[CV] clf__C=10.0, bin__threshold=0.01 ................................\n",
      "[CV] clf__C=10000.0, bin__threshold=0.05 .............................\n",
      "[CV] .............. clf__C=10000.0, bin__threshold=0.05, total=  21.0s\n",
      "[CV] clf__C=10000.0, bin__threshold=0.05 .............................\n",
      "[CV] ................. clf__C=10.0, bin__threshold=0.01, total=  34.8s\n",
      "[CV] clf__C=10000.0, bin__threshold=0.05 .............................\n",
      "[CV] ................. clf__C=10.0, bin__threshold=0.01, total=  37.4s\n",
      "[CV] clf__C=100000000.0, bin__threshold=0.001 ........................\n",
      "[CV] ................. clf__C=10.0, bin__threshold=0.01, total=  37.6s\n",
      "[CV] clf__C=100000000.0, bin__threshold=0.001 ........................\n",
      "[CV] .............. clf__C=10000.0, bin__threshold=0.05, total=  22.0s\n",
      "[CV] clf__C=100000000.0, bin__threshold=0.001 ........................\n",
      "[CV] .............. clf__C=10000.0, bin__threshold=0.05, total=  21.3s\n",
      "[CV] clf__C=100000.0, bin__threshold=0.05 ............................\n",
      "[CV] ............. clf__C=100000.0, bin__threshold=0.05, total=  21.7s\n",
      "[CV] clf__C=100000.0, bin__threshold=0.05 ............................\n",
      "[CV] ......... clf__C=100000000.0, bin__threshold=0.001, total=  44.4s\n",
      "[CV] clf__C=100000.0, bin__threshold=0.05 ............................\n",
      "[CV] ......... clf__C=100000000.0, bin__threshold=0.001, total=  45.4s\n",
      "[CV] clf__C=1000.0, bin__threshold=0.01 ..............................\n",
      "[CV] ......... clf__C=100000000.0, bin__threshold=0.001, total=  47.4s\n",
      "[CV] clf__C=1000.0, bin__threshold=0.01 ..............................\n",
      "[CV] ............. clf__C=100000.0, bin__threshold=0.05, total=  26.1s\n",
      "[CV] clf__C=1000.0, bin__threshold=0.01 ..............................\n",
      "[CV] ............. clf__C=100000.0, bin__threshold=0.05, total=  24.8s\n",
      "[CV] clf__C=10000.0, bin__threshold=0.001 ............................\n",
      "[CV] ............... clf__C=1000.0, bin__threshold=0.01, total=  42.6s\n",
      "[CV] clf__C=10000.0, bin__threshold=0.001 ............................\n",
      "[CV] ............... clf__C=1000.0, bin__threshold=0.01, total=  40.8s\n",
      "[CV] clf__C=10000.0, bin__threshold=0.001 ............................\n",
      "[CV] ............... clf__C=1000.0, bin__threshold=0.01, total=  39.9s\n",
      "[CV] clf__C=1000000.0, bin__threshold=0.05 ...........................\n",
      "[CV] ............. clf__C=10000.0, bin__threshold=0.001, total=  42.5s\n",
      "[CV] clf__C=1000000.0, bin__threshold=0.05 ...........................\n",
      "[CV] ............ clf__C=1000000.0, bin__threshold=0.05, total=  21.7s\n",
      "[CV] clf__C=1000000.0, bin__threshold=0.05 ...........................\n",
      "[CV] ............. clf__C=10000.0, bin__threshold=0.001, total=  43.5s\n",
      "[CV] clf__C=10.0, bin__threshold=0.05 ................................\n",
      "[CV] ............ clf__C=1000000.0, bin__threshold=0.05, total=  22.0s\n",
      "[CV] clf__C=10.0, bin__threshold=0.05 ................................\n",
      "[CV] ............. clf__C=10000.0, bin__threshold=0.001, total=  45.5s\n",
      "[CV] clf__C=10.0, bin__threshold=0.05 ................................\n",
      "[CV] ................. clf__C=10.0, bin__threshold=0.05, total=  18.2s\n",
      "[CV] clf__C=10000000.0, bin__threshold=0.001 .........................\n",
      "[CV] ............ clf__C=1000000.0, bin__threshold=0.05, total=  21.3s\n",
      "[CV] clf__C=10000000.0, bin__threshold=0.001 .........................\n",
      "[CV] ................. clf__C=10.0, bin__threshold=0.05, total=  18.2s\n",
      "[CV] clf__C=10000000.0, bin__threshold=0.001 .........................\n",
      "[CV] ................. clf__C=10.0, bin__threshold=0.05, total=  19.5s\n",
      "[CV] clf__C=100.0, bin__threshold=0.01 ...............................\n",
      "[CV] .......... clf__C=10000000.0, bin__threshold=0.001, total=  48.6s\n",
      "[CV] .......... clf__C=10000000.0, bin__threshold=0.001, total=  48.4s\n",
      "[CV] clf__C=100.0, bin__threshold=0.01 ...............................\n",
      "[CV] clf__C=100.0, bin__threshold=0.01 ...............................\n",
      "[CV] .......... clf__C=10000000.0, bin__threshold=0.001, total=  50.8s\n",
      "[CV] ................ clf__C=100.0, bin__threshold=0.01, total=  44.3s\n",
      "[CV] ................ clf__C=100.0, bin__threshold=0.01, total=  23.2s\n",
      "[CV] ................ clf__C=100.0, bin__threshold=0.01, total=  23.7s\n"
     ]
    },
    {
     "name": "stderr",
     "output_type": "stream",
     "text": [
      "[Parallel(n_jobs=-1)]: Done  30 out of  30 | elapsed:  4.3min finished\n"
     ]
    },
    {
     "data": {
      "text/plain": [
       "RandomizedSearchCV(cv=None, error_score='raise',\n",
       "          estimator=Pipeline(steps=[('bin', Binarizer(copy=True, threshold=0.0)), ('clf', LogisticRegression(C=1.0, class_weight=None, dual=False, fit_intercept=True,\n",
       "          intercept_scaling=1, max_iter=100, multi_class='ovr', n_jobs=1,\n",
       "          penalty='l2', random_state=None, solver='liblinear', tol=0.0001,\n",
       "          verbose=0, warm_start=False))]),\n",
       "          fit_params={}, iid=True, n_iter=10, n_jobs=-1,\n",
       "          param_distributions={'bin__threshold': [0.001, 0.01, 0.05], 'clf__C': array([  1.00000e+01,   1.00000e+02,   1.00000e+03,   1.00000e+04,\n",
       "         1.00000e+05,   1.00000e+06,   1.00000e+07,   1.00000e+08,\n",
       "         1.00000e+09])},\n",
       "          pre_dispatch='2*n_jobs', random_state=None, refit=True,\n",
       "          return_train_score=True, scoring=None, verbose=2)"
      ]
     },
     "execution_count": 25,
     "metadata": {},
     "output_type": "execute_result"
    }
   ],
   "source": [
    "pipe = Pipeline([('bin', Binarizer()), \n",
    "                 ('clf', LogisticRegression())])\n",
    "\n",
    "param = {'bin__threshold': [0.001, 0.01, 0.05],\n",
    "         'clf__C': 10**np.arange(1.0, 10.0) }\n",
    "from sklearn.model_selection import RandomizedSearchCV\n",
    "\n",
    "gs11 = RandomizedSearchCV(pipe, param, n_jobs=-1, verbose=2)\n",
    "gs11.fit(X_train, y_train)"
   ]
  },
  {
   "cell_type": "code",
   "execution_count": 26,
   "metadata": {
    "collapsed": false
   },
   "outputs": [
    {
     "data": {
      "text/plain": [
       "({'bin__threshold': 0.05, 'clf__C': 10.0},\n",
       " 0.89172706381474276,\n",
       " Pipeline(steps=[('bin', Binarizer(copy=True, threshold=0.05)), ('clf', LogisticRegression(C=10.0, class_weight=None, dual=False, fit_intercept=True,\n",
       "           intercept_scaling=1, max_iter=100, multi_class='ovr', n_jobs=1,\n",
       "           penalty='l2', random_state=None, solver='liblinear', tol=0.0001,\n",
       "           verbose=0, warm_start=False))]))"
      ]
     },
     "execution_count": 26,
     "metadata": {},
     "output_type": "execute_result"
    }
   ],
   "source": [
    "gs11.best_params_, gs11.best_score_, gs11.best_estimator_"
   ]
  },
  {
   "cell_type": "code",
   "execution_count": 27,
   "metadata": {
    "collapsed": false
   },
   "outputs": [
    {
     "data": {
      "text/plain": [
       "0.82116303770578869"
      ]
     },
     "execution_count": 27,
     "metadata": {},
     "output_type": "execute_result"
    }
   ],
   "source": [
    "gs11.score(X_test, y_test)"
   ]
  },
  {
   "cell_type": "code",
   "execution_count": 28,
   "metadata": {
    "collapsed": false
   },
   "outputs": [
    {
     "name": "stdout",
     "output_type": "stream",
     "text": [
      "Fitting 3 folds for each of 10 candidates, totalling 30 fits\n",
      "[CV] clf__C=10000000.0, bin__threshold=0.05 ..........................\n",
      "[CV] clf__C=10000000.0, bin__threshold=0.05 ..........................\n",
      "[CV] clf__C=10000000.0, bin__threshold=0.05 ..........................\n",
      "[CV] clf__C=1000.0, bin__threshold=0.001 .............................\n",
      "[CV] ........... clf__C=10000000.0, bin__threshold=0.05, total=  11.3s\n",
      "[CV] clf__C=1000.0, bin__threshold=0.001 .............................\n",
      "[CV] ........... clf__C=10000000.0, bin__threshold=0.05, total=  12.3s\n",
      "[CV] clf__C=1000.0, bin__threshold=0.001 .............................\n",
      "[CV] ........... clf__C=10000000.0, bin__threshold=0.05, total=  13.4s\n",
      "[CV] clf__C=1000000000.0, bin__threshold=0.05 ........................\n",
      "[CV] .............. clf__C=1000.0, bin__threshold=0.001, total=  16.3s\n",
      "[CV] clf__C=1000000000.0, bin__threshold=0.05 ........................\n",
      "[CV] ......... clf__C=1000000000.0, bin__threshold=0.05, total=  12.1s\n",
      "[CV] clf__C=1000000000.0, bin__threshold=0.05 ........................\n",
      "[CV] .............. clf__C=1000.0, bin__threshold=0.001, total=  17.1s\n",
      "[CV] clf__C=100.0, bin__threshold=0.01 ...............................\n",
      "[CV] ......... clf__C=1000000000.0, bin__threshold=0.05, total=  13.7s\n",
      "[CV] clf__C=100.0, bin__threshold=0.01 ...............................\n",
      "[CV] .............. clf__C=1000.0, bin__threshold=0.001, total=  19.8s\n",
      "[CV] clf__C=100.0, bin__threshold=0.01 ...............................\n",
      "[CV] ......... clf__C=1000000000.0, bin__threshold=0.05, total=  11.5s\n",
      "[CV] clf__C=10.0, bin__threshold=0.05 ................................\n",
      "[CV] ................ clf__C=100.0, bin__threshold=0.01, total=  17.1s\n",
      "[CV] clf__C=10.0, bin__threshold=0.05 ................................\n",
      "[CV] ................ clf__C=100.0, bin__threshold=0.01, total=  17.1s\n",
      "[CV] clf__C=10.0, bin__threshold=0.05 ................................\n",
      "[CV] ................ clf__C=100.0, bin__threshold=0.01, total=  19.9s\n",
      "[CV] clf__C=1000.0, bin__threshold=0.01 ..............................\n",
      "[CV] ................. clf__C=10.0, bin__threshold=0.05, total=  26.9s\n",
      "[CV] clf__C=1000.0, bin__threshold=0.01 ..............................\n",
      "[CV] ............... clf__C=1000.0, bin__threshold=0.01, total=  18.6s\n",
      "[CV] clf__C=1000.0, bin__threshold=0.01 ..............................\n",
      "[CV] ................. clf__C=10.0, bin__threshold=0.05, total=  20.4s\n",
      "[CV] clf__C=10000.0, bin__threshold=0.01 .............................\n",
      "[CV] ................. clf__C=10.0, bin__threshold=0.05, total=  32.5s\n",
      "[CV] clf__C=10000.0, bin__threshold=0.01 .............................\n",
      "[CV] ............... clf__C=1000.0, bin__threshold=0.01, total=  19.8s\n",
      "[CV] clf__C=10000.0, bin__threshold=0.01 .............................\n",
      "[CV] ............... clf__C=1000.0, bin__threshold=0.01, total=  17.1s\n",
      "[CV] clf__C=10000000.0, bin__threshold=0.01 ..........................\n",
      "[CV] .............. clf__C=10000.0, bin__threshold=0.01, total=  17.3s\n",
      "[CV] clf__C=10000000.0, bin__threshold=0.01 ..........................\n",
      "[CV] .............. clf__C=10000.0, bin__threshold=0.01, total=  18.4s\n",
      "[CV] clf__C=10000000.0, bin__threshold=0.01 ..........................\n",
      "[CV] .............. clf__C=10000.0, bin__threshold=0.01, total=  15.9s\n",
      "[CV] clf__C=1000.0, bin__threshold=0.05 ..............................\n",
      "[CV] ........... clf__C=10000000.0, bin__threshold=0.01, total=  16.0s\n",
      "[CV] clf__C=1000.0, bin__threshold=0.05 ..............................\n",
      "[CV] ........... clf__C=10000000.0, bin__threshold=0.01, total=  18.1s\n",
      "[CV] clf__C=1000.0, bin__threshold=0.05 ..............................\n",
      "[CV] ........... clf__C=10000000.0, bin__threshold=0.01, total=  15.7s\n",
      "[CV] clf__C=100000.0, bin__threshold=0.01 ............................\n",
      "[CV] ............... clf__C=1000.0, bin__threshold=0.05, total=  13.8s\n",
      "[CV] clf__C=100000.0, bin__threshold=0.01 ............................\n",
      "[CV] ............... clf__C=1000.0, bin__threshold=0.05, total=  12.0s\n",
      "[CV] clf__C=100000.0, bin__threshold=0.01 ............................\n",
      "[CV] ............... clf__C=1000.0, bin__threshold=0.05, total=  14.9s\n",
      "[CV] ............. clf__C=100000.0, bin__threshold=0.01, total=  12.5s\n",
      "[CV] ............. clf__C=100000.0, bin__threshold=0.01, total=  13.4s\n",
      "[CV] ............. clf__C=100000.0, bin__threshold=0.01, total=  10.6s\n"
     ]
    },
    {
     "name": "stderr",
     "output_type": "stream",
     "text": [
      "[Parallel(n_jobs=-1)]: Done  30 out of  30 | elapsed:  2.1min finished\n"
     ]
    },
    {
     "data": {
      "text/plain": [
       "RandomizedSearchCV(cv=None, error_score='raise',\n",
       "          estimator=Pipeline(steps=[('bin', Binarizer(copy=True, threshold=0.0)), ('clf', LinearSVC(C=1.0, class_weight=None, dual=True, fit_intercept=True,\n",
       "     intercept_scaling=1, loss='squared_hinge', max_iter=1000,\n",
       "     multi_class='ovr', penalty='l2', random_state=None, tol=0.0001,\n",
       "     verbose=0))]),\n",
       "          fit_params={}, iid=True, n_iter=10, n_jobs=-1,\n",
       "          param_distributions={'bin__threshold': [0.001, 0.01, 0.05], 'clf__C': array([  1.00000e+01,   1.00000e+02,   1.00000e+03,   1.00000e+04,\n",
       "         1.00000e+05,   1.00000e+06,   1.00000e+07,   1.00000e+08,\n",
       "         1.00000e+09])},\n",
       "          pre_dispatch='2*n_jobs', random_state=None, refit=True,\n",
       "          return_train_score=True, scoring=None, verbose=2)"
      ]
     },
     "execution_count": 28,
     "metadata": {},
     "output_type": "execute_result"
    }
   ],
   "source": [
    "from sklearn.svm import LinearSVC\n",
    "\n",
    "pipe = Pipeline([('bin', Binarizer()), \n",
    "                 ('clf', LinearSVC())])\n",
    "\n",
    "param = {'bin__threshold': [0.001, 0.01, 0.05],\n",
    "         'clf__C': 10**np.arange(1.0, 10.0) }\n",
    "\n",
    "from sklearn.model_selection import RandomizedSearchCV\n",
    "\n",
    "gs2 = RandomizedSearchCV(pipe, param, n_jobs=-1, verbose=2)\n",
    "gs2.fit(X_train, y_train)"
   ]
  },
  {
   "cell_type": "code",
   "execution_count": 29,
   "metadata": {
    "collapsed": false
   },
   "outputs": [
    {
     "data": {
      "text/plain": [
       "({'bin__threshold': 0.05, 'clf__C': 10.0},\n",
       " 0.8826232985681457,\n",
       " Pipeline(steps=[('bin', Binarizer(copy=True, threshold=0.05)), ('clf', LinearSVC(C=10.0, class_weight=None, dual=True, fit_intercept=True,\n",
       "      intercept_scaling=1, loss='squared_hinge', max_iter=1000,\n",
       "      multi_class='ovr', penalty='l2', random_state=None, tol=0.0001,\n",
       "      verbose=0))]))"
      ]
     },
     "execution_count": 29,
     "metadata": {},
     "output_type": "execute_result"
    }
   ],
   "source": [
    "gs2.best_params_, gs2.best_score_, gs2.best_estimator_"
   ]
  },
  {
   "cell_type": "code",
   "execution_count": 30,
   "metadata": {
    "collapsed": false
   },
   "outputs": [
    {
     "data": {
      "text/plain": [
       "0.79938927243759961"
      ]
     },
     "execution_count": 30,
     "metadata": {},
     "output_type": "execute_result"
    }
   ],
   "source": [
    "gs2.score(X_test, y_test)"
   ]
  },
  {
   "cell_type": "code",
   "execution_count": 31,
   "metadata": {
    "collapsed": false
   },
   "outputs": [
    {
     "name": "stdout",
     "output_type": "stream",
     "text": [
      "Fitting 3 folds for each of 10 candidates, totalling 30 fits\n",
      "[CV] clf__alpha=1e-08, bin__threshold=0.001 ..........................\n",
      "[CV] clf__alpha=1e-08, bin__threshold=0.001 ..........................\n",
      "[CV] clf__alpha=1e-08, bin__threshold=0.001 ..........................\n",
      "[CV] clf__alpha=1e-09, bin__threshold=0.001 ..........................\n",
      "[CV] ........... clf__alpha=1e-08, bin__threshold=0.001, total=   2.2s\n",
      "[CV] clf__alpha=1e-09, bin__threshold=0.001 ..........................\n",
      "[CV] ........... clf__alpha=1e-08, bin__threshold=0.001, total=   2.3s\n",
      "[CV] clf__alpha=1e-09, bin__threshold=0.001 ..........................\n",
      "[CV] ........... clf__alpha=1e-08, bin__threshold=0.001, total=   2.3s\n",
      "[CV] clf__alpha=1e-09, bin__threshold=0.05 ...........................\n",
      "[CV] ........... clf__alpha=1e-09, bin__threshold=0.001, total=   2.3s\n",
      "[CV] clf__alpha=1e-09, bin__threshold=0.05 ...........................\n",
      "[CV] ............ clf__alpha=1e-09, bin__threshold=0.05, total=   1.0s\n",
      "[CV] clf__alpha=1e-09, bin__threshold=0.05 ...........................\n",
      "[CV] ............ clf__alpha=1e-09, bin__threshold=0.05, total=   1.0s\n",
      "[CV] clf__alpha=1e-08, bin__threshold=0.05 ...........................\n",
      "[CV] ........... clf__alpha=1e-09, bin__threshold=0.001, total=   2.1s\n",
      "[CV] clf__alpha=1e-08, bin__threshold=0.05 ...........................\n",
      "[CV] ........... clf__alpha=1e-09, bin__threshold=0.001, total=   2.1s\n",
      "[CV] clf__alpha=1e-08, bin__threshold=0.05 ...........................\n",
      "[CV] ............ clf__alpha=1e-08, bin__threshold=0.05, total=   1.5s\n",
      "[CV] ............ clf__alpha=1e-09, bin__threshold=0.05, total=   1.6s\n",
      "[CV] clf__alpha=0.001, bin__threshold=0.01 ...........................\n",
      "[CV] clf__alpha=0.001, bin__threshold=0.01 ...........................\n",
      "[CV] ............ clf__alpha=1e-08, bin__threshold=0.05, total=   1.4s\n",
      "[CV] clf__alpha=0.001, bin__threshold=0.01 ...........................\n",
      "[CV] ............ clf__alpha=1e-08, bin__threshold=0.05, total=   1.3s\n",
      "[CV] clf__alpha=1e-07, bin__threshold=0.05 ...........................\n",
      "[CV] ............ clf__alpha=0.001, bin__threshold=0.01, total=   1.8s\n",
      "[CV] clf__alpha=1e-07, bin__threshold=0.05 ...........................\n",
      "[CV] ............ clf__alpha=0.001, bin__threshold=0.01, total=   1.8s\n",
      "[CV] clf__alpha=1e-07, bin__threshold=0.05 ...........................\n",
      "[CV] ............ clf__alpha=1e-07, bin__threshold=0.05, total=   1.2s\n",
      "[CV] clf__alpha=0.001, bin__threshold=0.001 ..........................\n",
      "[CV] ............ clf__alpha=0.001, bin__threshold=0.01, total=   1.9s\n",
      "[CV] clf__alpha=0.001, bin__threshold=0.001 ..........................\n",
      "[CV] ............ clf__alpha=1e-07, bin__threshold=0.05, total=   1.3s\n",
      "[CV] clf__alpha=0.001, bin__threshold=0.001 ..........................\n",
      "[CV] ............ clf__alpha=1e-07, bin__threshold=0.05, total=   1.4s\n",
      "[CV] clf__alpha=0.0001, bin__threshold=0.01 ..........................\n",
      "[CV] ........... clf__alpha=0.001, bin__threshold=0.001, total=   2.0s\n",
      "[CV] clf__alpha=0.0001, bin__threshold=0.01 ..........................\n",
      "[CV] ........... clf__alpha=0.001, bin__threshold=0.001, total=   2.1s\n",
      "[CV] clf__alpha=0.0001, bin__threshold=0.01 ..........................\n",
      "[CV] ........... clf__alpha=0.0001, bin__threshold=0.01, total=   1.7s\n",
      "[CV] clf__alpha=1e-07, bin__threshold=0.01 ...........................\n",
      "[CV] ........... clf__alpha=0.001, bin__threshold=0.001, total=   1.9s\n",
      "[CV] clf__alpha=1e-07, bin__threshold=0.01 ...........................\n",
      "[CV] ........... clf__alpha=0.0001, bin__threshold=0.01, total=   1.7s\n",
      "[CV] clf__alpha=1e-07, bin__threshold=0.01 ...........................\n",
      "[CV] ........... clf__alpha=0.0001, bin__threshold=0.01, total=   1.8s\n",
      "[CV] clf__alpha=0.0001, bin__threshold=0.05 ..........................\n",
      "[CV] ............ clf__alpha=1e-07, bin__threshold=0.01, total=   1.8s\n",
      "[CV] clf__alpha=0.0001, bin__threshold=0.05 ..........................\n",
      "[CV] ............ clf__alpha=1e-07, bin__threshold=0.01, total=   1.7s\n",
      "[CV] clf__alpha=0.0001, bin__threshold=0.05 ..........................\n",
      "[CV] ........... clf__alpha=0.0001, bin__threshold=0.05, total=   1.2s\n",
      "[CV] ............ clf__alpha=1e-07, bin__threshold=0.01, total=   1.8s\n",
      "[CV] ........... clf__alpha=0.0001, bin__threshold=0.05, total=   1.0s\n",
      "[CV] ........... clf__alpha=0.0001, bin__threshold=0.05, total=   0.9s\n"
     ]
    },
    {
     "name": "stderr",
     "output_type": "stream",
     "text": [
      "[Parallel(n_jobs=-1)]: Done  30 out of  30 | elapsed:   14.8s finished\n"
     ]
    },
    {
     "data": {
      "text/plain": [
       "RandomizedSearchCV(cv=None, error_score='raise',\n",
       "          estimator=Pipeline(steps=[('bin', Binarizer(copy=True, threshold=0.0)), ('clf', SGDClassifier(alpha=0.0001, average=False, class_weight=None, epsilon=0.1,\n",
       "       eta0=0.0, fit_intercept=True, l1_ratio=0.15,\n",
       "       learning_rate='optimal', loss='hinge', n_iter=5, n_jobs=1,\n",
       "       penalty='l2', power_t=0.5, random_state=None, shuffle=True,\n",
       "       verbose=0, warm_start=False))]),\n",
       "          fit_params={}, iid=True, n_iter=10, n_jobs=-1,\n",
       "          param_distributions={'bin__threshold': [0.001, 0.01, 0.05], 'clf__alpha': array([  1.00000e-10,   1.00000e-09,   1.00000e-08,   1.00000e-07,\n",
       "         1.00000e-06,   1.00000e-05,   1.00000e-04,   1.00000e-03,\n",
       "         1.00000e-02])},\n",
       "          pre_dispatch='2*n_jobs', random_state=None, refit=True,\n",
       "          return_train_score=True, scoring=None, verbose=2)"
      ]
     },
     "execution_count": 31,
     "metadata": {},
     "output_type": "execute_result"
    }
   ],
   "source": [
    "from sklearn.linear_model import SGDClassifier\n",
    "\n",
    "pipe = Pipeline([('bin', Binarizer()), \n",
    "                 ('clf', SGDClassifier(loss=\"hinge\") )])\n",
    "\n",
    "param = {'bin__threshold': [0.001, 0.01, 0.05],\n",
    "         'clf__alpha': 10**np.arange(-10.0, -1.0) }\n",
    "\n",
    "from sklearn.model_selection import RandomizedSearchCV\n",
    "\n",
    "gs22 = RandomizedSearchCV(pipe, param, n_jobs=-1, verbose=2)\n",
    "gs22.fit(X_train, y_train)"
   ]
  },
  {
   "cell_type": "code",
   "execution_count": 32,
   "metadata": {
    "collapsed": false
   },
   "outputs": [
    {
     "data": {
      "text/plain": [
       "({'bin__threshold': 0.01, 'clf__alpha': 0.001},\n",
       " 0.87298921689941666,\n",
       " Pipeline(steps=[('bin', Binarizer(copy=True, threshold=0.01)), ('clf', SGDClassifier(alpha=0.001, average=False, class_weight=None, epsilon=0.1,\n",
       "        eta0=0.0, fit_intercept=True, l1_ratio=0.15,\n",
       "        learning_rate='optimal', loss='hinge', n_iter=5, n_jobs=1,\n",
       "        penalty='l2', power_t=0.5, random_state=None, shuffle=True,\n",
       "        verbose=0, warm_start=False))]))"
      ]
     },
     "execution_count": 32,
     "metadata": {},
     "output_type": "execute_result"
    }
   ],
   "source": [
    "gs22.best_params_, gs22.best_score_, gs22.best_estimator_"
   ]
  },
  {
   "cell_type": "code",
   "execution_count": 33,
   "metadata": {
    "collapsed": false
   },
   "outputs": [
    {
     "data": {
      "text/plain": [
       "0.80244291024960168"
      ]
     },
     "execution_count": 33,
     "metadata": {},
     "output_type": "execute_result"
    }
   ],
   "source": [
    "gs22.score(X_test, y_test)"
   ]
  },
  {
   "cell_type": "code",
   "execution_count": 34,
   "metadata": {
    "collapsed": true
   },
   "outputs": [],
   "source": [
    "from sklearn.metrics import confusion_matrix\n",
    "from sklearn.metrics import classification_report\n",
    "\n",
    "y_pred = gs22.predict(X_test)"
   ]
  },
  {
   "cell_type": "code",
   "execution_count": 35,
   "metadata": {
    "collapsed": false
   },
   "outputs": [
    {
     "name": "stdout",
     "output_type": "stream",
     "text": [
      "             precision    recall  f1-score   support\n",
      "\n",
      "          0     0.6873    0.7994    0.7391       319\n",
      "          1     0.7575    0.7147    0.7354       389\n",
      "          2     0.6621    0.7360    0.6971       394\n",
      "          3     0.6571    0.6990    0.6774       392\n",
      "          4     0.7656    0.7974    0.7812       385\n",
      "          5     0.9225    0.6329    0.7508       395\n",
      "          6     0.7946    0.9128    0.8496       390\n",
      "          7     0.7924    0.8965    0.8412       396\n",
      "          8     0.8868    0.9447    0.9148       398\n",
      "          9     0.9397    0.8640    0.9003       397\n",
      "         10     0.8920    0.9724    0.9305       399\n",
      "         11     0.8735    0.9066    0.8897       396\n",
      "         12     0.6717    0.6768    0.6743       393\n",
      "         13     0.7759    0.8308    0.8024       396\n",
      "         14     0.8982    0.8731    0.8855       394\n",
      "         15     0.8402    0.9246    0.8804       398\n",
      "         16     0.7258    0.8434    0.7802       364\n",
      "         17     0.9556    0.8005    0.8712       376\n",
      "         18     0.8830    0.5355    0.6667       310\n",
      "         19     0.7811    0.5259    0.6286       251\n",
      "\n",
      "avg / total     0.8093    0.8024    0.8002      7532\n",
      "\n"
     ]
    }
   ],
   "source": [
    "print(classification_report(y_test, y_pred, digits=4))"
   ]
  },
  {
   "cell_type": "code",
   "execution_count": 36,
   "metadata": {
    "collapsed": false
   },
   "outputs": [
    {
     "ename": "NameError",
     "evalue": "name 'conf_mat' is not defined",
     "output_type": "error",
     "traceback": [
      "\u001b[0;31m---------------------------------------------------------------------------\u001b[0m",
      "\u001b[0;31mNameError\u001b[0m                                 Traceback (most recent call last)",
      "\u001b[0;32m<ipython-input-36-2162f07df37c>\u001b[0m in \u001b[0;36m<module>\u001b[0;34m()\u001b[0m\n\u001b[1;32m      3\u001b[0m \u001b[0mplt\u001b[0m\u001b[0;34m.\u001b[0m\u001b[0mgray\u001b[0m\u001b[0;34m(\u001b[0m\u001b[0;34m)\u001b[0m\u001b[0;34m\u001b[0m\u001b[0m\n\u001b[1;32m      4\u001b[0m \u001b[0;34m\u001b[0m\u001b[0m\n\u001b[0;32m----> 5\u001b[0;31m plt.imshow(1- conf_mat / conf_mat.sum(axis=1),\n\u001b[0m\u001b[1;32m      6\u001b[0m            interpolation='nearest')\n\u001b[1;32m      7\u001b[0m \u001b[0;34m\u001b[0m\u001b[0m\n",
      "\u001b[0;31mNameError\u001b[0m: name 'conf_mat' is not defined"
     ]
    },
    {
     "data": {
      "text/plain": [
       "<matplotlib.figure.Figure at 0x119faada0>"
      ]
     },
     "metadata": {},
     "output_type": "display_data"
    }
   ],
   "source": [
    "\n",
    "import matplotlib.pyplot as plt\n",
    "%matplotlib inline\n",
    "plt.gray()\n",
    "\n",
    "plt.imshow(1- conf_mat / conf_mat.sum(axis=1),\n",
    "           interpolation='nearest')\n",
    "\n",
    "plt.yticks(range(20), newsgroups_train.target_names);\n",
    "plt.xticks(range(20), newsgroups_train.target_names, rotation=90);"
   ]
  },
  {
   "cell_type": "code",
   "execution_count": null,
   "metadata": {
    "collapsed": true
   },
   "outputs": [],
   "source": []
  }
 ],
 "metadata": {
  "kernelspec": {
   "display_name": "Python 3",
   "language": "python",
   "name": "python3"
  },
  "language_info": {
   "codemirror_mode": {
    "name": "ipython",
    "version": 3
   },
   "file_extension": ".py",
   "mimetype": "text/x-python",
   "name": "python",
   "nbconvert_exporter": "python",
   "pygments_lexer": "ipython3",
   "version": "3.6.0"
  }
 },
 "nbformat": 4,
 "nbformat_minor": 2
}
